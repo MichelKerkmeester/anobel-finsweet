{
 "cells": [
  {
   "cell_type": "code",
   "execution_count": null,
   "metadata": {
    "vscode": {
     "languageId": "html"
    }
   },
   "outputs": [],
   "source": [
    "JS | Header (End)\n",
    "_________________\n",
    "\n",
    "<!-- Marquee: Clients -->\n",
    "<!-- Swiper -->\n",
    "<link rel=\"stylesheet\" href=\"https://cdn.jsdelivr.net/npm/swiper@11/swiper-bundle.min.css\" />\n",
    "<style>\n",
    "  /* Smooth scroll */\n",
    "  .marquee--container {\n",
    "    -webkit-transition-timing-function: linear !important;\n",
    "    -o-transition-timing-function: linear !important;\n",
    "    transition-timing-function: linear !important;\n",
    "  }\n",
    "</style>"
   ]
  },
  {
   "cell_type": "code",
   "execution_count": null,
   "metadata": {
    "vscode": {
     "languageId": "html"
    }
   },
   "outputs": [],
   "source": [
    "JS | Footer (Before)\n",
    "____________________\n",
    "\n",
    "<!-- Start at the top of the page on page refresh -->\n",
    "<script>\n",
    "    history.scrollRestoration = \"manual\";\n",
    "\n",
    "    window.addEventListener(\"beforeunload\", function () {\n",
    "        window.scrollTo(0, 0);\n",
    "    });\n",
    "</script>\n",
    "\n",
    "<!-- Flowplay Video Player -->\n",
    "<script src=\"https://cdn.jsdelivr.net/gh/videsigns/webflow-tools@latest/Media%20Player/flowplay.js\"></script>\n",
    "\n",
    "<!-- Autoplay - JS Fallback -->\n",
    "<script>\n",
    "    document.addEventListener('DOMContentLoaded', function () {\n",
    "\n",
    "        // Wait 3 seconds before trying to play the video\n",
    "        setTimeout(() => {\n",
    "            const vid = document.querySelector('video.hero--video-element');\n",
    "\n",
    "            // If the video element exists, attempt to play it\n",
    "            if (!vid) return;\n",
    "\n",
    "            vid.play().catch(err => {\n",
    "                // If autoplay is blocked (e.g., user has Low Power Mode), log a warning\n",
    "                console.warn('Autoplay blocked:', err);\n",
    "            });\n",
    "        }, 3000); // 3-second delay\n",
    "\n",
    "    });\n",
    "</script>\n",
    "\n",
    "<!-- Marquee: Clients -->\n",
    "<!-- Swiper -->\n",
    "<script src=\"https://cdn.jsdelivr.net/npm/swiper@8/swiper-bundle.min.js\"></script>\n",
    "<script>\n",
    "    const swiper = new Swiper('.marquee--track', {\n",
    "        wrapperClass: 'marquee--container', // Wrapper container class\n",
    "        slideClass: 'marquee--item', // Individual slide class\n",
    "        spaceBetween: 0, // No spacing (handled by CSS)\n",
    "        allowTouchMove: false, // Disable touch/drag\n",
    "        a11y: false, // Disable a11y for decorative content\n",
    "        speed: 8000, // Animation duration in ms\n",
    "        loop: true, // Enable infinite loop\n",
    "        slidesPerView: 'auto', // Auto-fit slides\n",
    "        autoplay: {\n",
    "            delay: 0, // No transition delay\n",
    "            disableOnInteraction: false, // Keep running after interaction\n",
    "        },\n",
    "    });\n",
    "</script>"
   ]
  }
 ],
 "metadata": {
  "kernelspec": {
   "display_name": "Python 3",
   "language": "python",
   "name": "python3"
  },
  "language_info": {
   "name": "python",
   "version": "3.9.6"
  },
  "orig_nbformat": 4
 },
 "nbformat": 4,
 "nbformat_minor": 2
}
