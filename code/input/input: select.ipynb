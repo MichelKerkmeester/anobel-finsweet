{
 "cells": [
  {
   "cell_type": "code",
   "execution_count": null,
   "metadata": {
    "vscode": {
     "languageId": "html"
    }
   },
   "outputs": [],
   "source": [
    "<!-- Input field: Select -->\n",
    "\n",
    "<!-- Finsweet - Custom form select -->\n",
    "<script defer src=\"https://cdn.jsdelivr.net/npm/@finsweet/attributes-selectcustom@1/selectcustom.js\"></script>"
   ]
  }
 ],
 "metadata": {
  "kernelspec": {
   "display_name": "Python 3",
   "language": "python",
   "name": "python3"
  },
  "language_info": {
   "name": "python",
   "version": "3.9.6"
  },
  "orig_nbformat": 4
 },
 "nbformat": 4,
 "nbformat_minor": 2
}
