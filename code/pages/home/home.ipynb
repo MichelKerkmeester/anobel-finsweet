{
 "cells": [
  {
   "cell_type": "code",
   "execution_count": null,
   "metadata": {
    "vscode": {
     "languageId": "html"
    }
   },
   "outputs": [],
   "source": [
    "JS | Header (End)\n",
    "_________________\n",
    "\n",
    "<!-- Marquee: Clients -->\n",
    "<!-- Swiper -->\n",
    "<link\n",
    "  rel=\"stylesheet\"\n",
    "  href=\"https://cdn.jsdelivr.net/npm/swiper@11/swiper-bundle.min.css\"\n",
    "/>"
   ]
  },
  {
   "cell_type": "code",
   "execution_count": null,
   "metadata": {
    "vscode": {
     "languageId": "html"
    }
   },
   "outputs": [],
   "source": [
    "JS | Footer (Before)\n",
    "____________________\n",
    "\n",
    "<!-- Start at the top of the page on page refresh -->\n",
    "<script>\n",
    "    history.scrollRestoration = \"manual\";\n",
    "\n",
    "    window.addEventListener(\"beforeunload\", function () {\n",
    "        window.scrollTo(0, 0);\n",
    "    });\n",
    "</script>\n",
    "\n",
    "<!-- Flowplay Video Player -->\n",
    "<script src=\"https://cdn.jsdelivr.net/gh/videsigns/webflow-tools@latest/Media%20Player/flowplay.js\"></script>\n",
    "\n",
    "<!-- Marquee: Clients -->\n",
    "<!-- Swiper -->\n",
    "<script src=\"https://cdn.jsdelivr.net/npm/swiper@11/swiper-bundle.min.js\"></script>\n",
    "\n",
    "<script>\n",
    "// Check if user prefers reduced motion\n",
    "const prefersReducedMotion = window.matchMedia('(prefers-reduced-motion: reduce)').matches;\n",
    "\n",
    "// Initialize Swiper with autoplay conditionally based on prefers-reduced-motion\n",
    "const swiper = new Swiper(\".is--marquee\", {\n",
    "    slidesPerView: 'auto',\n",
    "    loop: true,\n",
    "    speed: 4000,\n",
    "    allowTouchMove: false,\n",
    "    autoplay: prefersReducedMotion ? false : {\n",
    "        delay: 1,\n",
    "        disableOnInteraction: false,\n",
    "    },\n",
    "});\n",
    "</script>"
   ]
  }
 ],
 "metadata": {
  "kernelspec": {
   "display_name": "Python 3",
   "language": "python",
   "name": "python3"
  },
  "language_info": {
   "name": "python",
   "version": "3.9.6"
  },
  "orig_nbformat": 4
 },
 "nbformat": 4,
 "nbformat_minor": 2
}
